{
 "cells": [
  {
   "cell_type": "code",
   "execution_count": 1,
   "id": "9fce2fae-feca-4c70-99dd-6b109bc627aa",
   "metadata": {},
   "outputs": [
    {
     "name": "stdout",
     "output_type": "stream",
     "text": [
      "Intel MKL WARNING: Support of Intel(R) Streaming SIMD Extensions 4.2 (Intel(R) SSE4.2) enabled only processors has been deprecated. Intel oneAPI Math Kernel Library 2025.0 will require Intel(R) Advanced Vector Extensions (Intel(R) AVX) instructions.\n",
      "Intel MKL WARNING: Support of Intel(R) Streaming SIMD Extensions 4.2 (Intel(R) SSE4.2) enabled only processors has been deprecated. Intel oneAPI Math Kernel Library 2025.0 will require Intel(R) Advanced Vector Extensions (Intel(R) AVX) instructions.\n"
     ]
    }
   ],
   "source": [
    "import requests as r\n",
    "import pandas as pd\n",
    "import numpy as np\n",
    "from bs4 import BeautifulSoup as bs\n",
    "import re\n",
    "from helium import *\n",
    "import time\n",
    "import random"
   ]
  },
  {
   "cell_type": "code",
   "execution_count": 5,
   "id": "88aa4f8f-8433-4fcb-bd60-8f5c54ad38f0",
   "metadata": {},
   "outputs": [],
   "source": [
    "with open('dbacks.txt', 'w', encoding = 'utf-8') as f:\n",
    "    f.write(r.get('https://www.mlb.com/milb/prospects/dbacks/').text)"
   ]
  },
  {
   "cell_type": "code",
   "execution_count": 7,
   "id": "28c9ad23-45ee-4633-a7d7-38ff46a10fef",
   "metadata": {},
   "outputs": [],
   "source": [
    "with open('dbacks.txt', 'r') as f:\n",
    "    soup = BeautifulSoup(f)"
   ]
  },
  {
   "cell_type": "code",
   "execution_count": 2,
   "id": "e7d4334d-1dfa-4aef-ab5c-b26a3be9cf39",
   "metadata": {},
   "outputs": [],
   "source": [
    "driver = start_chrome('https://www.mlb.com/milb/prospects/bluejays/')"
   ]
  },
  {
   "cell_type": "code",
   "execution_count": 3,
   "id": "fc2dcd74-33d9-44cd-8f6c-5223da82b2d0",
   "metadata": {},
   "outputs": [],
   "source": [
    "click('Ok')"
   ]
  },
  {
   "cell_type": "code",
   "execution_count": 4,
   "id": "3010a16d-72f0-4bc1-8822-85edf060646d",
   "metadata": {},
   "outputs": [],
   "source": [
    "scroll_down(200)"
   ]
  },
  {
   "cell_type": "code",
   "execution_count": 5,
   "id": "67bddf67-b760-4c53-8903-704a1c76006d",
   "metadata": {},
   "outputs": [],
   "source": [
    "click('Show Full List')"
   ]
  },
  {
   "cell_type": "code",
   "execution_count": 6,
   "id": "605fff05-d37b-4e09-8d8e-4b3a0f4a6560",
   "metadata": {
    "scrolled": true
   },
   "outputs": [],
   "source": [
    "soup = bs(driver.page_source)"
   ]
  },
  {
   "cell_type": "code",
   "execution_count": 7,
   "id": "e87c8a71-5f79-4e1a-a7d4-e7b081b57bc6",
   "metadata": {},
   "outputs": [
    {
     "data": {
      "text/plain": [
       "30"
      ]
     },
     "execution_count": 7,
     "metadata": {},
     "output_type": "execute_result"
    }
   ],
   "source": [
    "len(soup.find('tbody').find_all('tr'))"
   ]
  },
  {
   "cell_type": "code",
   "execution_count": 8,
   "id": "11cafe16-b0fc-46a3-807a-bbabb6df23cb",
   "metadata": {},
   "outputs": [],
   "source": [
    "image_path = soup.find('tbody').find_all('tr')"
   ]
  },
  {
   "cell_type": "code",
   "execution_count": 9,
   "id": "e73157f3-f054-4025-99de-1078662cf7ed",
   "metadata": {},
   "outputs": [
    {
     "data": {
      "text/plain": [
       "'https://img.mlbstatic.com/mlb-photos/image/upload/c_fill,g_auto/w_180/v1/people/805796/headshot/milb/current'"
      ]
     },
     "execution_count": 9,
     "metadata": {},
     "output_type": "execute_result"
    }
   ],
   "source": [
    "image_path[0].find_all('img')[0].get('src')"
   ]
  },
  {
   "cell_type": "code",
   "execution_count": 10,
   "id": "7c3454a7-e62f-4026-b17f-c0a2da698c9a",
   "metadata": {},
   "outputs": [
    {
     "data": {
      "text/plain": [
       "'Arjun Nimmala'"
      ]
     },
     "execution_count": 10,
     "metadata": {},
     "output_type": "execute_result"
    }
   ],
   "source": [
    "player_name = soup.find('tbody').find_all('tr')[0].find('div', class_ = 'prospect-headshot__name').string\n",
    "player_name"
   ]
  },
  {
   "cell_type": "code",
   "execution_count": 11,
   "id": "d5a44078-d941-4eba-b625-7fde035827db",
   "metadata": {},
   "outputs": [],
   "source": [
    "player_picture_dict = {}\n",
    "for player in range(0,len(soup.find('tbody').find_all('tr'))):\n",
    "    image = soup.find('tbody').find_all('tr')[player].find_all('img')[0].get('src')\n",
    "    player_name = soup.find('tbody').find_all('tr')[player].find('div', class_ = 'prospect-headshot__name').string\n",
    "    player_picture_dict[player_name] = image\n",
    "\n",
    "\n",
    "\n",
    "\n"
   ]
  },
  {
   "cell_type": "code",
   "execution_count": 12,
   "id": "56af3def-8a22-417a-b4c1-4c7415b06460",
   "metadata": {},
   "outputs": [],
   "source": [
    "asfs = pd.DataFrame({\n",
    "'player': player_picture_dict.keys(),\n",
    "'picture': player_picture_dict.values()\n",
    "})"
   ]
  },
  {
   "cell_type": "code",
   "execution_count": 13,
   "id": "f3ab090a-3b64-457b-bdac-5824b8ce2ef0",
   "metadata": {},
   "outputs": [
    {
     "data": {
      "text/html": [
       "<div>\n",
       "<style scoped>\n",
       "    .dataframe tbody tr th:only-of-type {\n",
       "        vertical-align: middle;\n",
       "    }\n",
       "\n",
       "    .dataframe tbody tr th {\n",
       "        vertical-align: top;\n",
       "    }\n",
       "\n",
       "    .dataframe thead th {\n",
       "        text-align: right;\n",
       "    }\n",
       "</style>\n",
       "<table border=\"1\" class=\"dataframe\">\n",
       "  <thead>\n",
       "    <tr style=\"text-align: right;\">\n",
       "      <th></th>\n",
       "      <th>player</th>\n",
       "      <th>picture</th>\n",
       "    </tr>\n",
       "  </thead>\n",
       "  <tbody>\n",
       "    <tr>\n",
       "      <th>0</th>\n",
       "      <td>Arjun Nimmala</td>\n",
       "      <td>https://img.mlbstatic.com/mlb-photos/image/upl...</td>\n",
       "    </tr>\n",
       "    <tr>\n",
       "      <th>1</th>\n",
       "      <td>Trey Yesavage</td>\n",
       "      <td>https://img.mlbstatic.com/mlb-images/image/upl...</td>\n",
       "    </tr>\n",
       "    <tr>\n",
       "      <th>2</th>\n",
       "      <td>Orelvis Martinez</td>\n",
       "      <td>https://img.mlbstatic.com/mlb-photos/image/upl...</td>\n",
       "    </tr>\n",
       "    <tr>\n",
       "      <th>3</th>\n",
       "      <td>Ricky Tiedemann</td>\n",
       "      <td>https://img.mlbstatic.com/mlb-photos/image/upl...</td>\n",
       "    </tr>\n",
       "    <tr>\n",
       "      <th>4</th>\n",
       "      <td>Alan Roden</td>\n",
       "      <td>https://img.mlbstatic.com/mlb-photos/image/upl...</td>\n",
       "    </tr>\n",
       "    <tr>\n",
       "      <th>5</th>\n",
       "      <td>Jake Bloss</td>\n",
       "      <td>https://img.mlbstatic.com/mlb-photos/image/upl...</td>\n",
       "    </tr>\n",
       "    <tr>\n",
       "      <th>6</th>\n",
       "      <td>Josh Kasevich</td>\n",
       "      <td>https://img.mlbstatic.com/mlb-photos/image/upl...</td>\n",
       "    </tr>\n",
       "    <tr>\n",
       "      <th>7</th>\n",
       "      <td>Landen Maroudis</td>\n",
       "      <td>https://img.mlbstatic.com/mlb-photos/image/upl...</td>\n",
       "    </tr>\n",
       "    <tr>\n",
       "      <th>8</th>\n",
       "      <td>Kendry Rojas</td>\n",
       "      <td>https://img.mlbstatic.com/mlb-photos/image/upl...</td>\n",
       "    </tr>\n",
       "    <tr>\n",
       "      <th>9</th>\n",
       "      <td>Khal Stephen</td>\n",
       "      <td>https://img.mlbstatic.com/mlb-images/image/upl...</td>\n",
       "    </tr>\n",
       "    <tr>\n",
       "      <th>10</th>\n",
       "      <td>Fernando Perez</td>\n",
       "      <td>https://img.mlbstatic.com/mlb-photos/image/upl...</td>\n",
       "    </tr>\n",
       "    <tr>\n",
       "      <th>11</th>\n",
       "      <td>Johnny King</td>\n",
       "      <td>https://img.mlbstatic.com/mlb-images/image/upl...</td>\n",
       "    </tr>\n",
       "    <tr>\n",
       "      <th>12</th>\n",
       "      <td>Charles McAdoo</td>\n",
       "      <td>https://img.mlbstatic.com/mlb-photos/image/upl...</td>\n",
       "    </tr>\n",
       "    <tr>\n",
       "      <th>13</th>\n",
       "      <td>Brandon Barriera</td>\n",
       "      <td>https://img.mlbstatic.com/mlb-photos/image/upl...</td>\n",
       "    </tr>\n",
       "    <tr>\n",
       "      <th>14</th>\n",
       "      <td>Adam Macko</td>\n",
       "      <td>https://img.mlbstatic.com/mlb-photos/image/upl...</td>\n",
       "    </tr>\n",
       "    <tr>\n",
       "      <th>15</th>\n",
       "      <td>Juaron Watts-Brown</td>\n",
       "      <td>https://img.mlbstatic.com/mlb-photos/image/upl...</td>\n",
       "    </tr>\n",
       "    <tr>\n",
       "      <th>16</th>\n",
       "      <td>Enmanuel Bonilla</td>\n",
       "      <td>https://img.mlbstatic.com/mlb-images/image/upl...</td>\n",
       "    </tr>\n",
       "    <tr>\n",
       "      <th>17</th>\n",
       "      <td>Mason Fluharty</td>\n",
       "      <td>https://img.mlbstatic.com/mlb-photos/image/upl...</td>\n",
       "    </tr>\n",
       "    <tr>\n",
       "      <th>18</th>\n",
       "      <td>Sean Keys</td>\n",
       "      <td>https://img.mlbstatic.com/mlb-images/image/upl...</td>\n",
       "    </tr>\n",
       "    <tr>\n",
       "      <th>19</th>\n",
       "      <td>RJ Schreck</td>\n",
       "      <td>https://img.mlbstatic.com/mlb-photos/image/upl...</td>\n",
       "    </tr>\n",
       "    <tr>\n",
       "      <th>20</th>\n",
       "      <td>Ryan Jennings</td>\n",
       "      <td>https://img.mlbstatic.com/mlb-photos/image/upl...</td>\n",
       "    </tr>\n",
       "    <tr>\n",
       "      <th>21</th>\n",
       "      <td>Adrian Pinto</td>\n",
       "      <td>https://img.mlbstatic.com/mlb-photos/image/upl...</td>\n",
       "    </tr>\n",
       "    <tr>\n",
       "      <th>22</th>\n",
       "      <td>Carson Messina</td>\n",
       "      <td>https://img.mlbstatic.com/mlb-images/image/upl...</td>\n",
       "    </tr>\n",
       "    <tr>\n",
       "      <th>23</th>\n",
       "      <td>Jace Bohrofen</td>\n",
       "      <td>https://img.mlbstatic.com/mlb-photos/image/upl...</td>\n",
       "    </tr>\n",
       "    <tr>\n",
       "      <th>24</th>\n",
       "      <td>Lazaro Estrada</td>\n",
       "      <td>https://img.mlbstatic.com/mlb-photos/image/upl...</td>\n",
       "    </tr>\n",
       "    <tr>\n",
       "      <th>25</th>\n",
       "      <td>Angel Bastardo</td>\n",
       "      <td>https://img.mlbstatic.com/mlb-photos/image/upl...</td>\n",
       "    </tr>\n",
       "    <tr>\n",
       "      <th>26</th>\n",
       "      <td>Dasan Brown</td>\n",
       "      <td>https://img.mlbstatic.com/mlb-photos/image/upl...</td>\n",
       "    </tr>\n",
       "    <tr>\n",
       "      <th>27</th>\n",
       "      <td>Peyton Williams</td>\n",
       "      <td>https://img.mlbstatic.com/mlb-photos/image/upl...</td>\n",
       "    </tr>\n",
       "    <tr>\n",
       "      <th>28</th>\n",
       "      <td>Victor Arias</td>\n",
       "      <td>https://img.mlbstatic.com/mlb-photos/image/upl...</td>\n",
       "    </tr>\n",
       "    <tr>\n",
       "      <th>29</th>\n",
       "      <td>Cristopher Polanco</td>\n",
       "      <td>https://img.mlbstatic.com/mlb-images/image/upl...</td>\n",
       "    </tr>\n",
       "  </tbody>\n",
       "</table>\n",
       "</div>"
      ],
      "text/plain": [
       "                player                                            picture\n",
       "0        Arjun Nimmala  https://img.mlbstatic.com/mlb-photos/image/upl...\n",
       "1        Trey Yesavage  https://img.mlbstatic.com/mlb-images/image/upl...\n",
       "2     Orelvis Martinez  https://img.mlbstatic.com/mlb-photos/image/upl...\n",
       "3      Ricky Tiedemann  https://img.mlbstatic.com/mlb-photos/image/upl...\n",
       "4           Alan Roden  https://img.mlbstatic.com/mlb-photos/image/upl...\n",
       "5           Jake Bloss  https://img.mlbstatic.com/mlb-photos/image/upl...\n",
       "6        Josh Kasevich  https://img.mlbstatic.com/mlb-photos/image/upl...\n",
       "7      Landen Maroudis  https://img.mlbstatic.com/mlb-photos/image/upl...\n",
       "8         Kendry Rojas  https://img.mlbstatic.com/mlb-photos/image/upl...\n",
       "9         Khal Stephen  https://img.mlbstatic.com/mlb-images/image/upl...\n",
       "10      Fernando Perez  https://img.mlbstatic.com/mlb-photos/image/upl...\n",
       "11         Johnny King  https://img.mlbstatic.com/mlb-images/image/upl...\n",
       "12      Charles McAdoo  https://img.mlbstatic.com/mlb-photos/image/upl...\n",
       "13    Brandon Barriera  https://img.mlbstatic.com/mlb-photos/image/upl...\n",
       "14          Adam Macko  https://img.mlbstatic.com/mlb-photos/image/upl...\n",
       "15  Juaron Watts-Brown  https://img.mlbstatic.com/mlb-photos/image/upl...\n",
       "16    Enmanuel Bonilla  https://img.mlbstatic.com/mlb-images/image/upl...\n",
       "17      Mason Fluharty  https://img.mlbstatic.com/mlb-photos/image/upl...\n",
       "18           Sean Keys  https://img.mlbstatic.com/mlb-images/image/upl...\n",
       "19          RJ Schreck  https://img.mlbstatic.com/mlb-photos/image/upl...\n",
       "20       Ryan Jennings  https://img.mlbstatic.com/mlb-photos/image/upl...\n",
       "21        Adrian Pinto  https://img.mlbstatic.com/mlb-photos/image/upl...\n",
       "22      Carson Messina  https://img.mlbstatic.com/mlb-images/image/upl...\n",
       "23       Jace Bohrofen  https://img.mlbstatic.com/mlb-photos/image/upl...\n",
       "24      Lazaro Estrada  https://img.mlbstatic.com/mlb-photos/image/upl...\n",
       "25      Angel Bastardo  https://img.mlbstatic.com/mlb-photos/image/upl...\n",
       "26         Dasan Brown  https://img.mlbstatic.com/mlb-photos/image/upl...\n",
       "27     Peyton Williams  https://img.mlbstatic.com/mlb-photos/image/upl...\n",
       "28        Victor Arias  https://img.mlbstatic.com/mlb-photos/image/upl...\n",
       "29  Cristopher Polanco  https://img.mlbstatic.com/mlb-images/image/upl..."
      ]
     },
     "execution_count": 13,
     "metadata": {},
     "output_type": "execute_result"
    }
   ],
   "source": [
    "asfs"
   ]
  },
  {
   "cell_type": "code",
   "execution_count": 14,
   "id": "b2d0310f-ec41-4d55-95ad-513b005c8a8d",
   "metadata": {},
   "outputs": [],
   "source": [
    "asfs.to_csv('asfs.csv', index=False)"
   ]
  },
  {
   "cell_type": "code",
   "execution_count": 5,
   "id": "961008cc-22e4-4bbe-ae9c-35d89be85fd2",
   "metadata": {},
   "outputs": [
    {
     "data": {
      "text/plain": [
       "30"
      ]
     },
     "execution_count": 5,
     "metadata": {},
     "output_type": "execute_result"
    }
   ],
   "source": [
    "# Top 30 Links\n",
    "\n",
    "top_30_links = ['https://www.mlb.com/milb/prospects/dbacks/',\n",
    "                'https://www.mlb.com/milb/prospects/athletics/',\n",
    "                'https://www.mlb.com/milb/prospects/braves/',\n",
    "                'https://www.mlb.com/milb/prospects/orioles/',\n",
    "                'https://www.mlb.com/milb/prospects/redsox/',\n",
    "                'https://www.mlb.com/milb/prospects/cubs/',\n",
    "                'https://www.mlb.com/milb/prospects/whitesox/',\n",
    "                'https://www.mlb.com/milb/prospects/reds/',\n",
    "                'https://www.mlb.com/milb/prospects/guardians/',\n",
    "                'https://www.mlb.com/milb/prospects/rockies/',\n",
    "                'https://www.mlb.com/milb/prospects/tigers/',\n",
    "                'https://www.mlb.com/milb/prospects/astros/',\n",
    "                'https://www.mlb.com/milb/prospects/royals/',\n",
    "                'https://www.mlb.com/milb/prospects/angels/',\n",
    "                'https://www.mlb.com/milb/prospects/dodgers/',\n",
    "                'https://www.mlb.com/milb/prospects/marlins/',\n",
    "                'https://www.mlb.com/milb/prospects/brewers/',\n",
    "                'https://www.mlb.com/milb/prospects/twins/',\n",
    "                'https://www.mlb.com/milb/prospects/mets/',\n",
    "                'https://www.mlb.com/milb/prospects/yankees/',\n",
    "                'https://www.mlb.com/milb/prospects/phillies/',\n",
    "                'https://www.mlb.com/milb/prospects/pirates/',\n",
    "                'https://www.mlb.com/milb/prospects/padres/',\n",
    "                'https://www.mlb.com/milb/prospects/mariners/',\n",
    "                'https://www.mlb.com/milb/prospects/giants/',\n",
    "                'https://www.mlb.com/milb/prospects/cardinals/',\n",
    "                'https://www.mlb.com/milb/prospects/rays/',\n",
    "                'https://www.mlb.com/milb/prospects/rangers/',\n",
    "                'https://www.mlb.com/milb/prospects/bluejays/',\n",
    "                'https://www.mlb.com/milb/prospects/nationals/']\n",
    "len(top_30_links)"
   ]
  },
  {
   "cell_type": "code",
   "execution_count": 8,
   "id": "50ab7d91-b72b-4cb8-8cad-c61aeae7e85a",
   "metadata": {},
   "outputs": [
    {
     "name": "stderr",
     "output_type": "stream",
     "text": [
      "Exception ignored in: <function tqdm.__del__ at 0x7f8ef09d4b80>\n",
      "Traceback (most recent call last):\n",
      "  File \"/Users/brettcerenzio/opt/anaconda3/envs/SAL384/lib/python3.9/site-packages/tqdm/std.py\", line 1148, in __del__\n",
      "    self.close()\n",
      "  File \"/Users/brettcerenzio/opt/anaconda3/envs/SAL384/lib/python3.9/site-packages/tqdm/notebook.py\", line 279, in close\n",
      "    self.disp(bar_style='danger', check_delay=False)\n",
      "AttributeError: 'tqdm_notebook' object has no attribute 'disp'\n"
     ]
    }
   ],
   "source": [
    "player_picture_dict = {}\n",
    "for link in top_30_links:\n",
    "    if link == 'https://www.mlb.com/milb/prospects/dbacks/':\n",
    "        driver = start_chrome(link)\n",
    "        click('Ok')\n",
    "    else:\n",
    "        go_to(link)\n",
    "    scroll_down(200)\n",
    "    click('Show Full List')\n",
    "    time.sleep(random.uniform(2,10))\n",
    "    soup = bs(driver.page_source)\n",
    "    for player in range(0,len(soup.find('tbody').find_all('tr'))):\n",
    "        image = soup.find('tbody').find_all('tr')[player].find_all('img')[0].get('src')\n",
    "        player_name = soup.find('tbody').find_all('tr')[player].find('div', class_ = 'prospect-headshot__name').string\n",
    "        player_picture_dict[player_name] = image\n",
    "kill_browser()"
   ]
  },
  {
   "cell_type": "code",
   "execution_count": 9,
   "id": "06cf9db7-3001-4cf9-b202-f309be68b3f8",
   "metadata": {},
   "outputs": [],
   "source": [
    "player_pictures_df = pd.DataFrame({\n",
    "'player': player_picture_dict.keys(),\n",
    "'picture': player_picture_dict.values()\n",
    "})"
   ]
  },
  {
   "cell_type": "code",
   "execution_count": 11,
   "id": "a60bb334-cc84-48ff-a887-9b5d1ab1bef0",
   "metadata": {},
   "outputs": [
    {
     "data": {
      "text/html": [
       "<div>\n",
       "<style scoped>\n",
       "    .dataframe tbody tr th:only-of-type {\n",
       "        vertical-align: middle;\n",
       "    }\n",
       "\n",
       "    .dataframe tbody tr th {\n",
       "        vertical-align: top;\n",
       "    }\n",
       "\n",
       "    .dataframe thead th {\n",
       "        text-align: right;\n",
       "    }\n",
       "</style>\n",
       "<table border=\"1\" class=\"dataframe\">\n",
       "  <thead>\n",
       "    <tr style=\"text-align: right;\">\n",
       "      <th></th>\n",
       "      <th>player</th>\n",
       "      <th>picture</th>\n",
       "    </tr>\n",
       "  </thead>\n",
       "  <tbody>\n",
       "    <tr>\n",
       "      <th>0</th>\n",
       "      <td>Jordan Lawlar</td>\n",
       "      <td>https://img.mlbstatic.com/mlb-photos/image/upl...</td>\n",
       "    </tr>\n",
       "    <tr>\n",
       "      <th>1</th>\n",
       "      <td>Demetrio Crisantes</td>\n",
       "      <td>https://img.mlbstatic.com/mlb-photos/image/upl...</td>\n",
       "    </tr>\n",
       "    <tr>\n",
       "      <th>2</th>\n",
       "      <td>Slade Caldwell</td>\n",
       "      <td>https://img.mlbstatic.com/mlb-photos/image/upl...</td>\n",
       "    </tr>\n",
       "    <tr>\n",
       "      <th>3</th>\n",
       "      <td>Yilber Díaz</td>\n",
       "      <td>https://img.mlbstatic.com/mlb-photos/image/upl...</td>\n",
       "    </tr>\n",
       "    <tr>\n",
       "      <th>4</th>\n",
       "      <td>Adrian Del Castillo</td>\n",
       "      <td>https://img.mlbstatic.com/mlb-photos/image/upl...</td>\n",
       "    </tr>\n",
       "    <tr>\n",
       "      <th>...</th>\n",
       "      <td>...</td>\n",
       "      <td>...</td>\n",
       "    </tr>\n",
       "    <tr>\n",
       "      <th>845</th>\n",
       "      <td>Cristhian Vaquero</td>\n",
       "      <td>https://img.mlbstatic.com/mlb-photos/image/upl...</td>\n",
       "    </tr>\n",
       "    <tr>\n",
       "      <th>846</th>\n",
       "      <td>Kevin Made</td>\n",
       "      <td>https://img.mlbstatic.com/mlb-photos/image/upl...</td>\n",
       "    </tr>\n",
       "    <tr>\n",
       "      <th>847</th>\n",
       "      <td>Sam Petersen</td>\n",
       "      <td>https://img.mlbstatic.com/mlb-images/image/upl...</td>\n",
       "    </tr>\n",
       "    <tr>\n",
       "      <th>848</th>\n",
       "      <td>Orlando Ribalta</td>\n",
       "      <td>https://img.mlbstatic.com/mlb-photos/image/upl...</td>\n",
       "    </tr>\n",
       "    <tr>\n",
       "      <th>849</th>\n",
       "      <td>Brenner Cox</td>\n",
       "      <td>https://img.mlbstatic.com/mlb-photos/image/upl...</td>\n",
       "    </tr>\n",
       "  </tbody>\n",
       "</table>\n",
       "<p>850 rows × 2 columns</p>\n",
       "</div>"
      ],
      "text/plain": [
       "                  player                                            picture\n",
       "0          Jordan Lawlar  https://img.mlbstatic.com/mlb-photos/image/upl...\n",
       "1     Demetrio Crisantes  https://img.mlbstatic.com/mlb-photos/image/upl...\n",
       "2         Slade Caldwell  https://img.mlbstatic.com/mlb-photos/image/upl...\n",
       "3            Yilber Díaz  https://img.mlbstatic.com/mlb-photos/image/upl...\n",
       "4    Adrian Del Castillo  https://img.mlbstatic.com/mlb-photos/image/upl...\n",
       "..                   ...                                                ...\n",
       "845    Cristhian Vaquero  https://img.mlbstatic.com/mlb-photos/image/upl...\n",
       "846           Kevin Made  https://img.mlbstatic.com/mlb-photos/image/upl...\n",
       "847         Sam Petersen  https://img.mlbstatic.com/mlb-images/image/upl...\n",
       "848      Orlando Ribalta  https://img.mlbstatic.com/mlb-photos/image/upl...\n",
       "849          Brenner Cox  https://img.mlbstatic.com/mlb-photos/image/upl...\n",
       "\n",
       "[850 rows x 2 columns]"
      ]
     },
     "execution_count": 11,
     "metadata": {},
     "output_type": "execute_result"
    }
   ],
   "source": [
    "player_pictures_df"
   ]
  },
  {
   "cell_type": "code",
   "execution_count": 10,
   "id": "c40d8777-a836-4241-bf61-712f46012348",
   "metadata": {},
   "outputs": [],
   "source": [
    "player_pictures_df.to_csv('player_pictures.csv', index = False)"
   ]
  }
 ],
 "metadata": {
  "kernelspec": {
   "display_name": "Python 3 (ipykernel)",
   "language": "python",
   "name": "python3"
  },
  "language_info": {
   "codemirror_mode": {
    "name": "ipython",
    "version": 3
   },
   "file_extension": ".py",
   "mimetype": "text/x-python",
   "name": "python",
   "nbconvert_exporter": "python",
   "pygments_lexer": "ipython3",
   "version": "3.9.18"
  }
 },
 "nbformat": 4,
 "nbformat_minor": 5
}
